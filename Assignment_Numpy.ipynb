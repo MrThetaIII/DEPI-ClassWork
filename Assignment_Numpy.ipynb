{
 "cells": [
  {
   "cell_type": "code",
   "execution_count": 2,
   "metadata": {},
   "outputs": [],
   "source": [
    "import numpy as np"
   ]
  },
  {
   "cell_type": "markdown",
   "metadata": {},
   "source": [
    "# 1. Broadcasting"
   ]
  },
  {
   "cell_type": "markdown",
   "metadata": {},
   "source": [
    "## a) Add a 1D array [1, 2, 3] to each row of a 2D array [[10, 20, 30], [40, 50, 60]]."
   ]
  },
  {
   "cell_type": "code",
   "execution_count": 3,
   "metadata": {},
   "outputs": [
    {
     "name": "stdout",
     "output_type": "stream",
     "text": [
      "1a) Broadcasting Add:\n",
      " [[11 22 33]\n",
      " [41 52 63]]\n"
     ]
    }
   ],
   "source": [
    "arr1 = np.array([[10, 20, 30], [40, 50, 60]])\n",
    "arr2 = np.array([1, 2, 3])\n",
    "result1 = arr1 + arr2\n",
    "print(\"1a) Broadcasting Add:\\n\", result1)"
   ]
  },
  {
   "cell_type": "markdown",
   "metadata": {},
   "source": [
    "## b) Multiply a 2D array [[1, 2], [3, 4]] by a 1D array [10, 20] column-wise."
   ]
  },
  {
   "cell_type": "code",
   "execution_count": 5,
   "metadata": {},
   "outputs": [
    {
     "name": "stdout",
     "output_type": "stream",
     "text": [
      "1b) Broadcasting Multiply:\n",
      " [[10 20]\n",
      " [60 80]]\n"
     ]
    }
   ],
   "source": [
    "arr3 = np.array([[1, 2], [3, 4]])\n",
    "arr4 = np.array([[10], [20]])\n",
    "result2 = arr3 * arr4\n",
    "print(\"1b) Broadcasting Multiply:\\n\", result2)"
   ]
  },
  {
   "cell_type": "markdown",
   "metadata": {},
   "source": [
    "# 2. Indexing and Slicing (High Dimensional Arrays)"
   ]
  },
  {
   "cell_type": "code",
   "execution_count": 6,
   "metadata": {},
   "outputs": [],
   "source": [
    "arr5 = np.arange(1, 25).reshape(2, 3, 4)"
   ]
  },
  {
   "cell_type": "markdown",
   "metadata": {},
   "source": [
    "## a) Extract the second slice along axis 0."
   ]
  },
  {
   "cell_type": "code",
   "execution_count": 7,
   "metadata": {},
   "outputs": [
    {
     "name": "stdout",
     "output_type": "stream",
     "text": [
      "2a) Second Slice along Axis 0:\n",
      " [[13 14 15 16]\n",
      " [17 18 19 20]\n",
      " [21 22 23 24]]\n"
     ]
    }
   ],
   "source": [
    "result3 = arr5[1]\n",
    "print(\"2a) Second Slice along Axis 0:\\n\", result3)"
   ]
  },
  {
   "cell_type": "markdown",
   "metadata": {},
   "source": [
    "## b) Extract all rows and the last column for all slices."
   ]
  },
  {
   "cell_type": "code",
   "execution_count": 8,
   "metadata": {},
   "outputs": [
    {
     "name": "stdout",
     "output_type": "stream",
     "text": [
      "2b) All rows and the last column for all slices:\n",
      " [[ 4  8 12]\n",
      " [16 20 24]]\n"
     ]
    }
   ],
   "source": [
    "result4 = arr5[:, :, -1]\n",
    "print(\"2b) All rows and the last column for all slices:\\n\", result4)"
   ]
  },
  {
   "cell_type": "markdown",
   "metadata": {},
   "source": [
    "## c) Reverse the order of slices along axis 0."
   ]
  },
  {
   "cell_type": "code",
   "execution_count": 9,
   "metadata": {},
   "outputs": [
    {
     "name": "stdout",
     "output_type": "stream",
     "text": [
      "2c) Reverse the order of slices along Axis 0:\n",
      " [[[13 14 15 16]\n",
      "  [17 18 19 20]\n",
      "  [21 22 23 24]]\n",
      "\n",
      " [[ 1  2  3  4]\n",
      "  [ 5  6  7  8]\n",
      "  [ 9 10 11 12]]]\n"
     ]
    }
   ],
   "source": [
    "result5 = arr5[::-1]\n",
    "print(\"2c) Reverse the order of slices along Axis 0:\\n\", result5)"
   ]
  },
  {
   "cell_type": "markdown",
   "metadata": {},
   "source": [
    "## d) Set all even elements in the array to -1."
   ]
  },
  {
   "cell_type": "code",
   "execution_count": 10,
   "metadata": {},
   "outputs": [
    {
     "name": "stdout",
     "output_type": "stream",
     "text": [
      "2d) Set even elements to -1:\n",
      " [[[ 1 -1  3 -1]\n",
      "  [ 5 -1  7 -1]\n",
      "  [ 9 -1 11 -1]]\n",
      "\n",
      " [[13 -1 15 -1]\n",
      "  [17 -1 19 -1]\n",
      "  [21 -1 23 -1]]]\n"
     ]
    }
   ],
   "source": [
    "arr5[arr5 % 2 == 0] = -1\n",
    "print(\"2d) Set even elements to -1:\\n\", arr5)"
   ]
  },
  {
   "cell_type": "markdown",
   "metadata": {},
   "source": [
    "# 3. np.repeat"
   ]
  },
  {
   "cell_type": "markdown",
   "metadata": {},
   "source": [
    "## a) Given arr = np.array([1, 2, 3, 4, 5, 6]), create a new array where every odd element is repeated twice."
   ]
  },
  {
   "cell_type": "code",
   "execution_count": 11,
   "metadata": {},
   "outputs": [
    {
     "name": "stdout",
     "output_type": "stream",
     "text": [
      "3a) Repeat odd elements twice:\n",
      " [1 1 3 3 5 5]\n"
     ]
    }
   ],
   "source": [
    "arr6 = np.array([1, 2, 3, 4, 5, 6])\n",
    "result6 = np.repeat(arr6[arr6 % 2 != 0], 2)\n",
    "print(\"3a) Repeat odd elements twice:\\n\", result6)"
   ]
  },
  {
   "cell_type": "markdown",
   "metadata": {},
   "source": [
    "## b) Given arr = np.array([1, 2, 3, 4, 5, 6]), create a new array where elements are repeated based on their value."
   ]
  },
  {
   "cell_type": "code",
   "execution_count": 12,
   "metadata": {},
   "outputs": [
    {
     "name": "stdout",
     "output_type": "stream",
     "text": [
      "3b) Repeat elements based on their value:\n",
      " [1 2 2 3 3 3 4 4 4 4 5 5 5 5 5 6 6 6 6 6 6]\n"
     ]
    }
   ],
   "source": [
    "result7 = np.repeat(arr6, arr6)\n",
    "print(\"3b) Repeat elements based on their value:\\n\", result7)"
   ]
  },
  {
   "cell_type": "markdown",
   "metadata": {},
   "source": [
    "# 4. Normalizing\n"
   ]
  },
  {
   "cell_type": "markdown",
   "metadata": {},
   "source": [
    "## a) Normalize a 1D array arr = np.array([10, 20, 30]) to have values between 0 and 1."
   ]
  },
  {
   "cell_type": "code",
   "execution_count": 13,
   "metadata": {},
   "outputs": [
    {
     "name": "stdout",
     "output_type": "stream",
     "text": [
      "4a) Normalized array:\n",
      " [0.  0.5 1. ]\n"
     ]
    }
   ],
   "source": [
    "arr8 = np.array([10, 20, 30])\n",
    "result8 = (arr8 - arr8.min()) / (arr8.max() - arr8.min())\n",
    "print(\"4a) Normalized array:\\n\", result8)"
   ]
  },
  {
   "cell_type": "markdown",
   "metadata": {},
   "source": [
    "# 5. Bonus Challenge"
   ]
  },
  {
   "cell_type": "markdown",
   "metadata": {},
   "source": [
    "## a) Create a 3x3 matrix where each element at position (i, j) is i * j."
   ]
  },
  {
   "cell_type": "code",
   "execution_count": 14,
   "metadata": {},
   "outputs": [
    {
     "name": "stdout",
     "output_type": "stream",
     "text": [
      "5a) Matrix with i * j:\n",
      " [[0 0 0]\n",
      " [0 1 2]\n",
      " [0 2 4]]\n"
     ]
    }
   ],
   "source": [
    "result9 = np.array([[i * j for j in range(3)] for i in range(3)])\n",
    "print(\"5a) Matrix with i * j:\\n\", result9)"
   ]
  },
  {
   "cell_type": "markdown",
   "metadata": {},
   "source": [
    "## b) Given a 4x4 matrix, replace all elements on the main diagonal with 0 without using a loop."
   ]
  },
  {
   "cell_type": "code",
   "execution_count": 15,
   "metadata": {},
   "outputs": [
    {
     "name": "stdout",
     "output_type": "stream",
     "text": [
      "5b) 4x4 matrix with diagonal replaced by 0:\n",
      " [[0. 1. 1. 1.]\n",
      " [1. 0. 1. 1.]\n",
      " [1. 1. 0. 1.]\n",
      " [1. 1. 1. 0.]]\n"
     ]
    }
   ],
   "source": [
    "arr9 = np.ones((4, 4))\n",
    "np.fill_diagonal(arr9, 0)\n",
    "print(\"5b) 4x4 matrix with diagonal replaced by 0:\\n\", arr9)"
   ]
  }
 ],
 "metadata": {
  "kernelspec": {
   "display_name": "Python 3",
   "language": "python",
   "name": "python3"
  },
  "language_info": {
   "codemirror_mode": {
    "name": "ipython",
    "version": 3
   },
   "file_extension": ".py",
   "mimetype": "text/x-python",
   "name": "python",
   "nbconvert_exporter": "python",
   "pygments_lexer": "ipython3",
   "version": "3.8.10"
  }
 },
 "nbformat": 4,
 "nbformat_minor": 2
}
